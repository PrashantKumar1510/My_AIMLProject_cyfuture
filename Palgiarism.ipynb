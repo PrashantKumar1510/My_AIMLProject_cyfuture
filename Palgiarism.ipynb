{
  "nbformat": 4,
  "nbformat_minor": 0,
  "metadata": {
    "colab": {
      "provenance": []
    },
    "kernelspec": {
      "name": "python3",
      "display_name": "Python 3"
    },
    "language_info": {
      "name": "python"
    }
  },
  "cells": [
    {
      "cell_type": "code",
      "execution_count": null,
      "metadata": {
        "id": "-Uy56e1-40wa",
        "colab": {
          "base_uri": "https://localhost:8080/"
        },
        "outputId": "d3160d0d-0d87-4fe6-e760-e9ba5feb84de"
      },
      "outputs": [
        {
          "output_type": "stream",
          "name": "stdout",
          "text": [
            "Drive already mounted at /content/drive; to attempt to forcibly remount, call drive.mount(\"/content/drive\", force_remount=True).\n"
          ]
        }
      ],
      "source": [
        "from google.colab import drive\n",
        "drive.mount('/content/drive')"
      ]
    },
    {
      "cell_type": "markdown",
      "source": [
        "Dataset Load"
      ],
      "metadata": {
        "id": "PMO88qCOob97"
      }
    },
    {
      "cell_type": "code",
      "source": [
        "import pandas as pd\n",
        "\n",
        "# Dataset ka path\n",
        "dataset_path = \"/content/drive/MyDrive/Plagiarism-detection/train_snli.txt\"\n",
        "\n",
        "# Load dataset\n",
        "df = pd.read_csv(dataset_path, delimiter=\"\\t\", header=None, names=[\"sentence1\", \"sentence2\", \"label\"])\n",
        "\n",
        "print(df.head())"
      ],
      "metadata": {
        "colab": {
          "base_uri": "https://localhost:8080/"
        },
        "id": "E4QFdO-Wvl_P",
        "outputId": "2dedc6cd-4f5c-41be-b4c7-ec440f5a715f"
      },
      "execution_count": null,
      "outputs": [
        {
          "output_type": "stream",
          "name": "stdout",
          "text": [
            "                                           sentence1  \\\n",
            "0  A person on a horse jumps over a broken down a...   \n",
            "1  A person on a horse jumps over a broken down a...   \n",
            "2              Children smiling and waving at camera   \n",
            "3              Children smiling and waving at camera   \n",
            "4  A boy is jumping on skateboard in the middle o...   \n",
            "\n",
            "                                       sentence2  label  \n",
            "0  A person is at a diner, ordering an omelette.      0  \n",
            "1              A person is outdoors, on a horse.      1  \n",
            "2                     There are children present      1  \n",
            "3                          The kids are frowning      0  \n",
            "4              The boy skates down the sidewalk.      0  \n"
          ]
        }
      ]
    },
    {
      "cell_type": "markdown",
      "source": [
        "Dataset cleaning"
      ],
      "metadata": {
        "id": "cphp4tGtv2BY"
      }
    },
    {
      "cell_type": "code",
      "source": [
        "import re\n",
        "\n",
        "# Function to clean text\n",
        "def clean_text(text):\n",
        "    text = text.lower()  # Lowercase me convert\n",
        "    text = re.sub(r'\\W', ' ', text)  # Special characters remove\n",
        "    text = re.sub(r'\\s+', ' ', text).strip()  # Extra spaces remove\n",
        "    return text\n",
        "\n",
        "# Apply Cleaning\n",
        "df[\"sentence1\"] = df[\"sentence1\"].apply(clean_text)\n",
        "\n",
        "print(df.head())  # Cleaned data check\n"
      ],
      "metadata": {
        "colab": {
          "base_uri": "https://localhost:8080/"
        },
        "id": "3vD6-316v1oQ",
        "outputId": "2fb58ad5-dc06-4057-c00e-a96cbddcb7de"
      },
      "execution_count": null,
      "outputs": [
        {
          "output_type": "stream",
          "name": "stdout",
          "text": [
            "                                           sentence1  \\\n",
            "0  a person on a horse jumps over a broken down a...   \n",
            "1  a person on a horse jumps over a broken down a...   \n",
            "2              children smiling and waving at camera   \n",
            "3              children smiling and waving at camera   \n",
            "4  a boy is jumping on skateboard in the middle o...   \n",
            "\n",
            "                                       sentence2  label  \n",
            "0  A person is at a diner, ordering an omelette.      0  \n",
            "1              A person is outdoors, on a horse.      1  \n",
            "2                     There are children present      1  \n",
            "3                          The kids are frowning      0  \n",
            "4              The boy skates down the sidewalk.      0  \n"
          ]
        }
      ]
    },
    {
      "cell_type": "markdown",
      "source": [
        "We will create a Bigram ,Basically pair of words"
      ],
      "metadata": {
        "id": "v88GAJ4WwDL5"
      }
    },
    {
      "cell_type": "code",
      "source": [
        "import nltk\n",
        "from nltk.util import ngrams\n",
        "from collections import Counter\n",
        "\n",
        "nltk.download('punkt')\n",
        "\n",
        "# Function to generate N-grams (fix included)\n",
        "def generate_ngrams(text, n=2):\n",
        "    words = nltk.word_tokenize(text.lower())  # Lowercase & tokenize properly\n",
        "    return list(ngrams(words, n))\n",
        "\n",
        "# Sentence 1 ke proper bigrams banao\n",
        "df[\"sentence1_ngrams\"] = df[\"sentence1\"].apply(lambda x: generate_ngrams(x, 2))\n",
        "\n",
        "# N-grams list ko properly store karo\n",
        "all_ngrams = [gram for grams in df[\"sentence1_ngrams\"] for gram in grams]\n",
        "\n",
        "# Proper frequency count\n",
        "ngram_freq = Counter(all_ngrams)\n",
        "\n",
        "print(\"✅ N-gram Training Fixed!\")\n",
        "print(ngram_freq.most_common(10))  # Top 10 bigrams print karo\n"
      ],
      "metadata": {
        "colab": {
          "base_uri": "https://localhost:8080/"
        },
        "id": "0HQQFy4OwCh5",
        "outputId": "202be1f6-397c-4bee-9e7f-66ffa289e515"
      },
      "execution_count": null,
      "outputs": [
        {
          "output_type": "stream",
          "name": "stderr",
          "text": [
            "[nltk_data] Downloading package punkt to /root/nltk_data...\n",
            "[nltk_data]   Package punkt is already up-to-date!\n"
          ]
        },
        {
          "output_type": "stream",
          "name": "stdout",
          "text": [
            "✅ N-gram Training Fixed!\n",
            "[(('in', 'a'), 82745), (('a', 'man'), 68400), (('on', 'a'), 49988), (('in', 'the'), 38621), (('with', 'a'), 35727), (('a', 'woman'), 34346), (('of', 'a'), 30039), (('man', 'in'), 27484), (('on', 'the'), 25113), (('wearing', 'a'), 21754)]\n"
          ]
        }
      ]
    },
    {
      "cell_type": "code",
      "source": [
        "def debug_probability(sentence, ngram_freq, vocab_size, alpha=0.01):\n",
        "    ngrams_list = generate_ngrams(sentence, 2)\n",
        "    for ngram in ngrams_list:\n",
        "        count = ngram_freq[ngram] if ngram in ngram_freq else 0\n",
        "        prob = (count + alpha) / (sum(ngram_freq.values()) + (vocab_size * alpha))  # Smoothing\n",
        "        print(f\"N-gram: {ngram}, Count: {count}, Probability: {prob:.10f}\")  # Debug print\n",
        "\n",
        "debug_probability(test_sentence, ngram_freq, vocab_size)\n"
      ],
      "metadata": {
        "colab": {
          "base_uri": "https://localhost:8080/"
        },
        "id": "Qd2_D2GRy-Qq",
        "outputId": "83414ed4-9c78-4727-b443-4e892ccdd496"
      },
      "execution_count": null,
      "outputs": [
        {
          "output_type": "stream",
          "name": "stdout",
          "text": [
            "N-gram: ('a', 'person'), Count: 7346, Probability: 0.0016758285\n",
            "N-gram: ('person', 'is'), Count: 1647, Probability: 0.0003757286\n",
            "N-gram: ('is', 'riding'), Count: 2205, Probability: 0.0005030239\n",
            "N-gram: ('riding', 'a'), Count: 3466, Probability: 0.0007906929\n",
            "N-gram: ('a', 'horse'), Count: 1339, Probability: 0.0003054653\n"
          ]
        }
      ]
    },
    {
      "cell_type": "code",
      "source": [
        "print(f\"Total Unique Bigrams: {len(ngram_freq)}\")  # Kitne bigrams hai\n",
        "print(f\"Vocab Size: {vocab_size}\")  # Vocab Size proper hai ya nahi\n"
      ],
      "metadata": {
        "colab": {
          "base_uri": "https://localhost:8080/"
        },
        "id": "R7lwEBHUyvmO",
        "outputId": "4df7fdcf-a95a-4aa8-de1a-7f197b8a675c"
      },
      "execution_count": null,
      "outputs": [
        {
          "output_type": "stream",
          "name": "stdout",
          "text": [
            "Total Unique Bigrams: 228149\n",
            "Vocab Size: 228149\n"
          ]
        }
      ]
    },
    {
      "cell_type": "code",
      "source": [
        "test_sentence = \"A person is riding a horse\"\n",
        "test_ngrams = generate_ngrams(test_sentence, 2)\n",
        "\n",
        "for ngram in test_ngrams:\n",
        "    print(f\"N-gram: {ngram}, Count in Training: {ngram_freq[ngram]}\")\n"
      ],
      "metadata": {
        "id": "pThGNhrl0HBX",
        "outputId": "a739e921-edb2-4096-b731-dca0486b621c",
        "colab": {
          "base_uri": "https://localhost:8080/"
        }
      },
      "execution_count": null,
      "outputs": [
        {
          "output_type": "stream",
          "name": "stdout",
          "text": [
            "N-gram: ('a', 'person'), Count in Training: 7346\n",
            "N-gram: ('person', 'is'), Count in Training: 1647\n",
            "N-gram: ('is', 'riding'), Count in Training: 2205\n",
            "N-gram: ('riding', 'a'), Count in Training: 3466\n",
            "N-gram: ('a', 'horse'), Count in Training: 1339\n"
          ]
        }
      ]
    },
    {
      "cell_type": "markdown",
      "source": [
        "Now we will check Perplexity Score"
      ],
      "metadata": {
        "id": "QfsevlYSwmr5"
      }
    },
    {
      "cell_type": "code",
      "source": [
        "import numpy as np\n",
        "\n",
        "def calculate_perplexity_safe(sentence, ngram_freq, vocab_size, alpha=0.01):\n",
        "    ngrams_list = generate_ngrams(sentence, 2)\n",
        "    log_probability = 0\n",
        "    total_bigrams = sum(ngram_freq.values()) + (vocab_size * alpha)\n",
        "\n",
        "    for ngram in ngrams_list:\n",
        "        count = ngram_freq[ngram] if ngram in ngram_freq else 0\n",
        "        prob = (count + alpha) / total_bigrams\n",
        "        log_probability += np.log(prob) if prob > 0 else 0  # Log only if prob > 0\n",
        "\n",
        "    perplexity = np.exp(-log_probability / max(len(ngrams_list), 1))  # Avoid division by 0\n",
        "    return perplexity\n",
        "\n",
        "# Test Again\n",
        "perplexity_safe = calculate_perplexity_safe(test_sentence, ngram_freq, vocab_size)\n",
        "\n",
        "print(f\"📌 Final Safe Perplexity Score: {perplexity_safe:.2f}\")\n"
      ],
      "metadata": {
        "colab": {
          "base_uri": "https://localhost:8080/"
        },
        "id": "OQ_f4Zuz0BNz",
        "outputId": "9dccf1e7-e13c-4c7a-c578-5a0de5833210"
      },
      "execution_count": null,
      "outputs": [
        {
          "output_type": "stream",
          "name": "stdout",
          "text": [
            "📌 Final Safe Perplexity Score: 1672.12\n"
          ]
        }
      ]
    }
  ]
}